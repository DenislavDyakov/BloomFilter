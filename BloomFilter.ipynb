{
 "cells": [
  {
   "cell_type": "markdown",
   "metadata": {},
   "source": [
    "# Probability Data Structures for Membership Estimation - Constructing a simple Bloom Filter\n",
    "## Author: Denislav Dyakov\n",
    "\n",
    "## Abstract\n",
    "\n",
    "In this paper, we explain the basics of Probabilistic Data Structures and Bloom filters in particular. We build a simplistic Bloom filter in Python from scratch, instead of using readily available modules, to get a better understanding of it. In addition we present the results of some performance testing, comparing the search times between out Bloom filter and two deterministic algorithms - linear and binary searches. Our findings suggest that the Bloom filter performed faster than a binary search (sortin the list was not taken into consideration in the measurements). In addition the variability of search times for the Bloom filter is lower than the one of the Binary search. Finaly we discuss both the advantages and disadvantages of Bloom filters.\n",
    "\n",
    "\n",
    "## Introduction to Data Structures\n",
    "\n",
    "A data structure is defined as a format for storing, organizing and managing data, for better algorithm efficiency [1].\n",
    "Data structures (will be refered to as \"DSs\" from here onward) are not to be confused with Data types. A Data type is defined as \"a set of values together with operations\" [2], while a DS is the physical implementation of the Data type itself. \n",
    "DSs include information about the data, as well as applicable relationships between the data and functions. They are essential for managing large amounts of information efficiently and can be used to translate abstract data types in the application. For example displaying a relational database as a binary tree. \n",
    "\n",
    "DSs can be classified in two types, based on the way they are accessed: Linear and Non-linear [3]. \n",
    "\n",
    "Some of the commonly used Linear DSs include:\n",
    "- Arrays - which store a collection of items, each identified by at least one index/key.\n",
    "- Stacks and Queues - which store a collection of items in the order of opperations applied. Stacks follow the LIFO principle, while Queues follow the FIFO one.\n",
    "- Linked lists - which store data in linear order and each element points to the next.\n",
    "\n",
    "And some of the Non-liniar DSs are:\n",
    "- Trees - which store data in hierarchical ways\n",
    "- Graphs - a set of nodes and edges"
   ]
  },
  {
   "cell_type": "markdown",
   "metadata": {},
   "source": [
    "## A review of Probabilitic Data Structures\n",
    "\n",
    "Probabilistic DSs are described as \"data structures based mostly on different hashing techniques\" [4]. Generally speaking, Probabilistic DSs use hash functions to randomize and compactly represent a set of items [5]. Unlike the regular DSs, they provide an estimation rather than an exact answer. This lack of precision is compensated by the low memory requirements, fast speeds of execution, as well as potential for scaling. Such properties make Probabilistic DSs ideal for big data, streaming and statistical analysis applications.\n",
    "\n",
    "There are several types of problems that probabilistic functions aim to solve, namely:\n",
    "\n",
    "##### Membership - to decide whether an element belongs to a dataset or not. \n",
    "Some of these PDSs are: Bloom filter, Counting Bloom filter, Quotient filter and Cuckoo filter.\n",
    "\n",
    "##### Cardinality - to find the number of distinct elements in a dataset, where duplicates are present. \n",
    "Some of these PDSs are: Linear Counting, Probabilistic Counting, LogLog and HyperLogLog.\n",
    "\n",
    "##### Frequency - to find the frequencies of elements in a dataset. \n",
    "Some of these PDSs are: Majority algorithm, Frequent Algorithm, Count Sketch and Count-Min Sketch.\n",
    "\n",
    "##### Rank - to calculate rank-based characteristics of the data in a dataset such as quantiles and percentiles. \n",
    "Some of these PDSs are: Random Sampling, q-digest and t-digest\n",
    "\n",
    "##### Similarity - to numerically express how similar two objects are. \n",
    "Some of these PDSs are:Locality-Sensitive hashing, MinHash and Simhash\n",
    "\n",
    "For the purposes of this paper, we will only review the Bloom Filter PDS. In the next section we will examine it in more detail."
   ]
  },
  {
   "cell_type": "markdown",
   "metadata": {},
   "source": [
    "### What is a Bloom filter?\n",
    "\n",
    "Bloom filters help us to determine if an element is most likely in a dataset or not. They do this by checking the values of a few bits [4].  An empty Bloom filter is essentially a bit array of $m$ bits, that are initially all set to 0. \n",
    "It has two main operations:\n",
    "\n",
    "#### Adding an element to a set\n",
    "With the help of $k$ number of hash functions (or one and the same hash function with $k$ number of seeds), $k$ number of hash values of the element are generated. These hash value's keys are then mapped to an empty bit array position, chaning its from 0 to 1.\n",
    "\n",
    "#### Checking if an element is present in a set\n",
    "Again with the help of $k$ number of hash functions, $k$ number of hash values of the element are generated. If any of the bits at these positions is 0, then we can conclude that the element is definitely not in the set - false negatives are not possible [6]. If, however, all the bits in these position are 1, then there are two possibilities:\n",
    "- the element is present in the set\n",
    "- the bits have been changed from 0 to 1 during the addition of another element\n",
    "\n",
    "This is why we can only conclude that an element is *most likely* in a dataset and allow for a false positive result.\n",
    "\n",
    "#### How about removing an element?\n",
    "Removing an element from a set is not possible in Bloom filters. Chaning a bit from 1 to 0 will remove the element, but could also unintentionally remove another element mapped to this particular bit.\n",
    "\n",
    "#### Examples of uses of Bloom filters\n",
    "\n"
   ]
  },
  {
   "cell_type": "markdown",
   "metadata": {},
   "source": [
    "## The Maths behind a Bloom filter\n",
    "In order to create a Bloom filter we need to control for the probability for a false positive: $p$. To do that, we need to have a good idea about the size of data set that will be added to the Bloom filter: $n$\n",
    "\n",
    "The formula for calculating the size of the bit array $m$ is:\n",
    "\n",
    "$$ m = - \\frac{n  \\ln {}  p} { (\\ln {} 2)^2}  $$\n",
    "\n",
    "\n",
    "After we determine $m$, we can calculate the number of hashes $k$ to use:\n",
    "\n",
    "$$ k = - \\frac{m}{n}  \\ln {} 2 $$\n",
    "\n",
    "Having a Bloom filter with $m$ bits and $k$ hashes, the probability that a certain bit will be 0 after one insertion is:\n",
    "\n",
    "$$ (1 - \\frac{1}{m})^k $$\n",
    "\n",
    "After $n$ insertions, the probability will change to\n",
    "\n",
    "$$ (1 - \\frac{1}{m})^{nk} $$\n",
    "\n",
    "Therefore the probability for a false positive $p$ will become\n",
    "\n",
    "$$ p = (1- (1 - \\frac{1}{m})^{nk})^k $$\n"
   ]
  },
  {
   "cell_type": "markdown",
   "metadata": {},
   "source": [
    "### Building the estimators from scratch in Python\n"
   ]
  },
  {
   "cell_type": "markdown",
   "metadata": {},
   "source": [
    "Here we will build and test a simplistic implementation of a Bloom filer. Our goal will be to search a predefined list of strings and compare the Bloom filter's performance to the performance of two deterministic search algorithms: linear and binary search. \n",
    "\n",
    "This implementation can also be reused with different data sets depending on the purpose and data availability. Some examples would be: if a username is already in use, or if you want to figure out if a given IP is a blacklisted one or not.\n",
    "\n",
    "We start with importing our python modules"
   ]
  },
  {
   "cell_type": "code",
   "execution_count": 1,
   "metadata": {},
   "outputs": [],
   "source": [
    "%matplotlib inline"
   ]
  },
  {
   "cell_type": "code",
   "execution_count": 2,
   "metadata": {},
   "outputs": [],
   "source": [
    "import math \n",
    "\n",
    "# for the Conda environment, the mmh3 module had to be installed first. \n",
    "# since regular pip commands caused the command prompt to freeze, the following command was used: \n",
    "# conda install -c conda-forge mmh3\n",
    "import mmh3 \n",
    "\n",
    "from bitarray import bitarray \n",
    "\n",
    "# conda install nltk  might need to be ran\n",
    "import nltk\n",
    "\n",
    "from time import perf_counter \n",
    "import pandas as pd\n",
    "import matplotlib.pyplot as plt\n",
    "import random\n",
    "import numpy as np"
   ]
  },
  {
   "cell_type": "markdown",
   "metadata": {},
   "source": [
    "Following the formulas above, we define a function for calculating the size of the bit array:"
   ]
  },
  {
   "cell_type": "code",
   "execution_count": 3,
   "metadata": {},
   "outputs": [],
   "source": [
    "def size_of_bit_array(number_of_elements, false_positive_probability): \n",
    "    size = - (number_of_elements * math.log(false_positive_probability))/(math.log(2)**2) \n",
    "    return int(size) "
   ]
  },
  {
   "cell_type": "markdown",
   "metadata": {},
   "source": [
    "We also need to define the optimum number of hashes:"
   ]
  },
  {
   "cell_type": "code",
   "execution_count": 4,
   "metadata": {},
   "outputs": [],
   "source": [
    "def number_of_hashes(size_of_bit_array, number_of_elements): \n",
    "    number = (size_of_bit_array/number_of_elements) * math.log(2) \n",
    "    return int(number) "
   ]
  },
  {
   "cell_type": "markdown",
   "metadata": {},
   "source": [
    "Next, we will import the data source that would be added to our Bloom filter. For the purposes of this paper, we will use the NLTK module. It includes a small selection of texts from the Project Gutenberg electronic text archive. It is often used for practical work in Natural Language Processing, since it quickly provides large bodies of linguistic data. In our case NLTK will allow us to build large lists of strings, whose hashes will be added to our Bloom filter.\n",
    "\n",
    "We start by downloading the Gutenberg package data:"
   ]
  },
  {
   "cell_type": "code",
   "execution_count": 5,
   "metadata": {},
   "outputs": [
    {
     "name": "stderr",
     "output_type": "stream",
     "text": [
      "[nltk_data] Downloading package gutenberg to\n",
      "[nltk_data]     C:\\Users\\Denis\\AppData\\Roaming\\nltk_data...\n",
      "[nltk_data]   Package gutenberg is already up-to-date!\n"
     ]
    },
    {
     "data": {
      "text/plain": [
       "True"
      ]
     },
     "execution_count": 5,
     "metadata": {},
     "output_type": "execute_result"
    }
   ],
   "source": [
    "nltk.download('gutenberg')"
   ]
  },
  {
   "cell_type": "markdown",
   "metadata": {},
   "source": [
    "Checking what we have done"
   ]
  },
  {
   "cell_type": "code",
   "execution_count": 6,
   "metadata": {},
   "outputs": [
    {
     "data": {
      "text/plain": [
       "['austen-emma.txt',\n",
       " 'austen-persuasion.txt',\n",
       " 'austen-sense.txt',\n",
       " 'bible-kjv.txt',\n",
       " 'blake-poems.txt',\n",
       " 'bryant-stories.txt',\n",
       " 'burgess-busterbrown.txt',\n",
       " 'carroll-alice.txt',\n",
       " 'chesterton-ball.txt',\n",
       " 'chesterton-brown.txt',\n",
       " 'chesterton-thursday.txt',\n",
       " 'edgeworth-parents.txt',\n",
       " 'melville-moby_dick.txt',\n",
       " 'milton-paradise.txt',\n",
       " 'shakespeare-caesar.txt',\n",
       " 'shakespeare-hamlet.txt',\n",
       " 'shakespeare-macbeth.txt',\n",
       " 'whitman-leaves.txt']"
      ]
     },
     "execution_count": 6,
     "metadata": {},
     "output_type": "execute_result"
    }
   ],
   "source": [
    "gutenberg_corpus = nltk.corpus.gutenberg.fileids()\n",
    "gutenberg_corpus"
   ]
  },
  {
   "cell_type": "markdown",
   "metadata": {},
   "source": [
    "The corpus includes a list with file ids of the texts that we will utilise. For the purpose of this exercise we will go on and create a list that contains all strings from the first five texts."
   ]
  },
  {
   "cell_type": "code",
   "execution_count": 7,
   "metadata": {},
   "outputs": [
    {
     "name": "stdout",
     "output_type": "stream",
     "text": [
      "This provides us with a list, containing 1451182 strings.\n"
     ]
    }
   ],
   "source": [
    "words = nltk.corpus.gutenberg.words(gutenberg_corpus[:5])\n",
    "print(\"This provides us with a list, containing \" + str(len(words)) + \" strings.\")"
   ]
  },
  {
   "cell_type": "code",
   "execution_count": 8,
   "metadata": {},
   "outputs": [
    {
     "name": "stdout",
     "output_type": "stream",
     "text": [
      "['[', 'Emma', 'by', 'Jane', 'Austen', '1816', ']', 'VOLUME', 'I', 'CHAPTER']\n"
     ]
    }
   ],
   "source": [
    "print(words[:10])"
   ]
  },
  {
   "cell_type": "markdown",
   "metadata": {},
   "source": [
    "Checking the contetns of our data set, we see that it contains words but also symbols that are a part of the particular text. For the purposes of this paper, this should not be a problem, therefore we will not clear the list any further."
   ]
  },
  {
   "cell_type": "markdown",
   "metadata": {},
   "source": [
    "We proceed with adding the words from our data source into a bloom list.\n",
    "\n",
    "For this purpose, we set a false positive probability of 0.05 and calculate the lenght of the bit array based on the number of elements in our data set."
   ]
  },
  {
   "cell_type": "code",
   "execution_count": 9,
   "metadata": {},
   "outputs": [
    {
     "name": "stdout",
     "output_type": "stream",
     "text": [
      "The number of elements are: 21424\n",
      "The size of the bit array needs to be: 205350\n"
     ]
    }
   ],
   "source": [
    "false_positive_probability = 0.01\n",
    "\n",
    "number_of_elements = len(set(words))\n",
    "print(\"The number of elements are: \" + str(number_of_elements))\n",
    "\n",
    "size = size_of_bit_array(number_of_elements,false_positive_probability)\n",
    "print(\"The size of the bit array needs to be: \" + str(size))"
   ]
  },
  {
   "cell_type": "markdown",
   "metadata": {},
   "source": [
    "We go on and calculate the number of hashes that will need to be generated in order to achieve such false positive probability."
   ]
  },
  {
   "cell_type": "code",
   "execution_count": 10,
   "metadata": {},
   "outputs": [
    {
     "name": "stdout",
     "output_type": "stream",
     "text": [
      "6\n"
     ]
    }
   ],
   "source": [
    "hash_count = number_of_hashes(size, number_of_elements) \n",
    "print(hash_count)"
   ]
  },
  {
   "cell_type": "markdown",
   "metadata": {},
   "source": [
    "We create the bit array and assign the suggested size, after which we set all bits to 0"
   ]
  },
  {
   "cell_type": "code",
   "execution_count": 11,
   "metadata": {},
   "outputs": [
    {
     "name": "stdout",
     "output_type": "stream",
     "text": [
      "The bit array is 205350 bits long, and all of its bits are set to 0\n"
     ]
    }
   ],
   "source": [
    "bit_array = bitarray(size)\n",
    "bit_array.setall(0)\n",
    "# a quick check that the array is created and all is set to 0:\n",
    "print(\"The bit array is \" + str(len(bit_array)) + \" bits long, and all of its bits are set to \" + str(sum(bit_array)))"
   ]
  },
  {
   "cell_type": "markdown",
   "metadata": {},
   "source": [
    "Next we create the functionality for adding elements to the Bloom filter"
   ]
  },
  {
   "cell_type": "code",
   "execution_count": 12,
   "metadata": {},
   "outputs": [],
   "source": [
    "list_of_hashes = []\n",
    "for word in words:\n",
    "    for seed in range(hash_count):\n",
    "        hash = mmh3.hash(word, seed) % size\n",
    "        list_of_hashes.append(hash)\n",
    "        bit_array[hash] = True     "
   ]
  },
  {
   "cell_type": "code",
   "execution_count": 13,
   "metadata": {},
   "outputs": [
    {
     "data": {
      "text/plain": [
       "[194952, 25073, 38359, 9357, 41426, 59154, 162406, 201189, 155598, 134023]"
      ]
     },
     "execution_count": 13,
     "metadata": {},
     "output_type": "execute_result"
    }
   ],
   "source": [
    "list_of_hashes[:10]"
   ]
  },
  {
   "cell_type": "markdown",
   "metadata": {},
   "source": [
    "Let us check what happend with our bit array. We will take a look at a part of it"
   ]
  },
  {
   "cell_type": "code",
   "execution_count": 14,
   "metadata": {},
   "outputs": [
    {
     "data": {
      "text/plain": [
       "bitarray('0000111111100010010001100000000111101110101001101110110000011110100100111000110001011100110000110011000011000101100100000001011110011010110111010010110111000000001010001100110100000100110001101001011000100100001011001000101111101000000111110111111010010011000101000100000101000011010011000000101000010011100110011010100110000000100011010001000000101000000110110001000110101010100010111001101010000000101010000001100101010011010110110000101110110101000000100000010101100111010101000001110000001101000000100010100000001111101001101010010001111111111001010110100111001001000010101000011111000100110000000111000011110000010100101001010000010101000001001001111110001011000011001101011011000000111110000100101100011010100001101001011001001100110001111001110000100000100110100000000010110000110100110001110100000011001010101000011010101001010100001100101001100001100101001010101101000101100000100001100101000000010001011000111000111001000110011110100111010000001110100111000001110101111010010001000010110000')"
      ]
     },
     "execution_count": 14,
     "metadata": {},
     "output_type": "execute_result"
    }
   ],
   "source": [
    "bit_array[100000:101000]"
   ]
  },
  {
   "cell_type": "markdown",
   "metadata": {},
   "source": [
    "As intended, some of the bits have changed from 0 to 1. All the indexes that are stored in our list_of_hashes list are now changed to 1 in our bit array. Let us check that. We will take all unique indexes in the list and see if it matches the sum of bits in the bit array. The logic here is that the bits should change from 0 to 1 for all unique indexes in the list."
   ]
  },
  {
   "cell_type": "code",
   "execution_count": 15,
   "metadata": {},
   "outputs": [],
   "source": [
    "assert len(set(list_of_hashes)) == sum(bit_array), \"Should be True\""
   ]
  },
  {
   "cell_type": "markdown",
   "metadata": {},
   "source": [
    "Now that we know that we have added our elements, let us create a function for searching if an element is a member."
   ]
  },
  {
   "cell_type": "code",
   "execution_count": 16,
   "metadata": {},
   "outputs": [],
   "source": [
    "def check_bloom_filter(element):\n",
    "    for seed in range(hash_count): \n",
    "        hash = mmh3.hash(element, seed) % size \n",
    "        if bit_array[hash] == False: \n",
    "            # if any of bit is False then,its not present \n",
    "            # in filter \n",
    "            # else there is probability that it exist \n",
    "            return False\n",
    "    return True    "
   ]
  },
  {
   "cell_type": "markdown",
   "metadata": {},
   "source": [
    "Now let us do some testing. \n",
    "We want to see if a list of words not present in our data set will return as positives (false positive)\n",
    "We also want to check if a list of words that are present will return as not being present (false negatives). \n",
    "Accoring to the theory, the former should have a probability of 0.05 (as we have defined earlier). The latter should not be possible and we expect no such results."
   ]
  },
  {
   "cell_type": "code",
   "execution_count": 17,
   "metadata": {},
   "outputs": [],
   "source": [
    "second_words = nltk.corpus.gutenberg.words(gutenberg_corpus[5:])"
   ]
  },
  {
   "cell_type": "code",
   "execution_count": 18,
   "metadata": {},
   "outputs": [],
   "source": [
    "different_words = np.setdiff1d(second_words, words)"
   ]
  },
  {
   "cell_type": "code",
   "execution_count": 19,
   "metadata": {},
   "outputs": [
    {
     "data": {
      "text/plain": [
       "29732"
      ]
     },
     "execution_count": 19,
     "metadata": {},
     "output_type": "execute_result"
    }
   ],
   "source": [
    "len(different_words)"
   ]
  },
  {
   "cell_type": "code",
   "execution_count": 20,
   "metadata": {},
   "outputs": [
    {
     "data": {
      "text/plain": [
       "array(['BOW', 'BOX', 'BRACE', 'BRACELETS', 'BRACTON', 'BRAHMIN', 'BREACH',\n",
       "       'BREAKERS', 'BREAKFAST', 'BREAKWATER'], dtype='<U20')"
      ]
     },
     "execution_count": 20,
     "metadata": {},
     "output_type": "execute_result"
    }
   ],
   "source": [
    "different_words[1000:1010]"
   ]
  },
  {
   "cell_type": "code",
   "execution_count": 21,
   "metadata": {},
   "outputs": [],
   "source": [
    "# let's test whether the function will incorrectly return a True value\n",
    "def test_false_positive(list):\n",
    "    false = []\n",
    "    true = []\n",
    "    for word in list:\n",
    "\n",
    "        if check_bloom_filter(word) == False:\n",
    "            false.append(\"False\")\n",
    "        else:\n",
    "            true.append(\"True\")\n",
    "\n",
    "    print(\"The false positive percentage is \" + \"{:.2%}\".format(len(true) / (len(false) + len(true))))"
   ]
  },
  {
   "cell_type": "code",
   "execution_count": 22,
   "metadata": {},
   "outputs": [
    {
     "name": "stdout",
     "output_type": "stream",
     "text": [
      "The false positive percentage is 1.01%\n"
     ]
    }
   ],
   "source": [
    "test_false_positive(different_words)"
   ]
  },
  {
   "cell_type": "markdown",
   "metadata": {},
   "source": [
    "The false positive percentage is very close to the $p = 0.01$ that we have set, therefore we can conclude that the test passes"
   ]
  },
  {
   "cell_type": "code",
   "execution_count": 23,
   "metadata": {},
   "outputs": [],
   "source": [
    "# let's test whether the function will correctly return a False value\n",
    "def test_false_negative(list):\n",
    "    false = []\n",
    "    true = []\n",
    "    for word in list:\n",
    "\n",
    "        if check_bloom_filter(word) == False:\n",
    "            false.append(\"False\")\n",
    "        else:\n",
    "            true.append(\"True\")\n",
    "\n",
    "    print(\"The false negative percentage is \" + \"{:.2%}\".format(len(false) / (len(false) + len(true))))"
   ]
  },
  {
   "cell_type": "code",
   "execution_count": 24,
   "metadata": {},
   "outputs": [
    {
     "name": "stdout",
     "output_type": "stream",
     "text": [
      "The false negative percentage is 0.00%\n"
     ]
    }
   ],
   "source": [
    "test_false_negative(words)"
   ]
  },
  {
   "cell_type": "markdown",
   "metadata": {},
   "source": [
    "This test passes as well."
   ]
  },
  {
   "cell_type": "markdown",
   "metadata": {},
   "source": [
    "### Comparing performance\n"
   ]
  },
  {
   "cell_type": "markdown",
   "metadata": {},
   "source": [
    "For the purpose of this exercise, we will compare the performance of the search speed our Bloom filter and two deterministic algorithms - linear and binary search. We will sample a list of words from the data set and feed those to the three algorithms in order to compare performance."
   ]
  },
  {
   "cell_type": "code",
   "execution_count": 25,
   "metadata": {},
   "outputs": [],
   "source": [
    "random_words = []\n",
    "for i in range(300):\n",
    "    random_word = random.choice(words)\n",
    "    random_words.append(random_word)"
   ]
  },
  {
   "cell_type": "code",
   "execution_count": 26,
   "metadata": {},
   "outputs": [
    {
     "data": {
      "text/plain": [
       "['that',\n",
       " 'the',\n",
       " 'in',\n",
       " 'danger',\n",
       " 'fathers',\n",
       " 'rejoice',\n",
       " 'Benwick',\n",
       " 'and',\n",
       " 'to',\n",
       " 'happiness']"
      ]
     },
     "execution_count": 26,
     "metadata": {},
     "output_type": "execute_result"
    }
   ],
   "source": [
    "random_words[:10]"
   ]
  },
  {
   "cell_type": "markdown",
   "metadata": {},
   "source": [
    "Then we will define a function that performs a linear search of a list until it finds a target."
   ]
  },
  {
   "cell_type": "code",
   "execution_count": 27,
   "metadata": {},
   "outputs": [],
   "source": [
    "def linear_search(list, target): \n",
    "\n",
    "    for element in range(len(list)): \n",
    "        if list[element] == target: \n",
    "            return True\n",
    "    return False"
   ]
  },
  {
   "cell_type": "markdown",
   "metadata": {},
   "source": [
    "Let us perform a quick test, by feeding it a word that is not present in the list and a word that is present in it."
   ]
  },
  {
   "cell_type": "code",
   "execution_count": 28,
   "metadata": {},
   "outputs": [],
   "source": [
    "assert linear_search(words, random_words[1]) == True, \"Should be True\""
   ]
  },
  {
   "cell_type": "code",
   "execution_count": 29,
   "metadata": {},
   "outputs": [],
   "source": [
    "assert linear_search(words, different_words[1]) == False, \"Should be False\""
   ]
  },
  {
   "cell_type": "markdown",
   "metadata": {},
   "source": [
    "Nothing is returned, by these assertions, therefore the two tests are passed.\n",
    "\n",
    "Next, we define a function for binary search:"
   ]
  },
  {
   "cell_type": "code",
   "execution_count": 30,
   "metadata": {},
   "outputs": [],
   "source": [
    "def binary_search(list, target):\n",
    "    \n",
    "    #list = sorted(list)\n",
    "    start = 0\n",
    "    end = len(list) - 1\n",
    "    while start <= end:\n",
    "        middle = (start + end)// 2\n",
    "        midpoint = list[middle]\n",
    "        if midpoint > target:\n",
    "            end = middle - 1\n",
    "        elif midpoint < target:\n",
    "            start = middle + 1\n",
    "        else:\n",
    "            return midpoint"
   ]
  },
  {
   "cell_type": "markdown",
   "metadata": {},
   "source": [
    "Again testing with the same tests:"
   ]
  },
  {
   "cell_type": "code",
   "execution_count": 31,
   "metadata": {},
   "outputs": [],
   "source": [
    "words_sorted = sorted(words)\n",
    "assert binary_search(words_sorted, random_words[1]) == random_words[1] , \"Should be True\""
   ]
  },
  {
   "cell_type": "code",
   "execution_count": 32,
   "metadata": {},
   "outputs": [],
   "source": [
    "words_sorted = sorted(words)\n",
    "assert binary_search(words_sorted, different_words[1]) == None, \"Should be False\""
   ]
  },
  {
   "cell_type": "markdown",
   "metadata": {},
   "source": [
    "We will run each of the three searches for each of the random words in our list. Then we will record in separate list the duration of each search. "
   ]
  },
  {
   "cell_type": "code",
   "execution_count": 33,
   "metadata": {},
   "outputs": [],
   "source": [
    "# this one might take a while to complete :(.\n",
    "linear_performance = []\n",
    "for i in range(len(random_words)):\n",
    "    \n",
    "    t1_start = perf_counter()  \n",
    "\n",
    "    linear_search(words, random_words[i])\n",
    "\n",
    "    t1_stop = perf_counter() \n",
    "    \n",
    "    linear_performance.append(t1_stop-t1_start)"
   ]
  },
  {
   "cell_type": "code",
   "execution_count": 44,
   "metadata": {},
   "outputs": [],
   "source": [
    "bin_performance = []\n",
    "for i in range(len(random_words)):\n",
    "    \n",
    "\n",
    "    t1_start = perf_counter()  \n",
    "\n",
    "    binary_search(words_sorted, random_words[i])\n",
    "\n",
    "    t1_stop = perf_counter() \n",
    "\n",
    "    bin_performance.append(t1_stop-t1_start)\n",
    "    #print(\"Elapsed time:\", t1_stop, t1_start)  \n",
    "    #print(\"Elapsed time during the whole program in seconds:\", t1_stop-t1_start) "
   ]
  },
  {
   "cell_type": "code",
   "execution_count": 45,
   "metadata": {},
   "outputs": [],
   "source": [
    "bloom_performance = []\n",
    "for i in range(len(random_words)):\n",
    "    \n",
    "    t1_start = perf_counter()  \n",
    "    \n",
    "\n",
    "    check_bloom_filter(random_words[i])\n",
    "\n",
    "    t1_stop = perf_counter() \n",
    "    \n",
    "    bloom_performance.append(t1_stop-t1_start)"
   ]
  },
  {
   "cell_type": "code",
   "execution_count": 46,
   "metadata": {},
   "outputs": [],
   "source": [
    "df_linear_performance = pd.DataFrame(linear_performance)\n",
    "df_bin_performance = pd.DataFrame(bin_performance)\n",
    "df_bloom_performance = pd.DataFrame(bloom_performance)"
   ]
  },
  {
   "cell_type": "markdown",
   "metadata": {},
   "source": [
    "Let us see what was the average time it took the three search functions to return a result:"
   ]
  },
  {
   "cell_type": "code",
   "execution_count": 47,
   "metadata": {},
   "outputs": [
    {
     "name": "stdout",
     "output_type": "stream",
     "text": [
      "0.2285106699999998\n",
      "5.778333333428994e-06\n",
      "3.3963333332091376e-06\n"
     ]
    }
   ],
   "source": [
    "print(df_linear_performance[0].mean())\n",
    "print(df_bin_performance[0].mean())\n",
    "print(df_bloom_performance[0].mean())"
   ]
  },
  {
   "cell_type": "code",
   "execution_count": 48,
   "metadata": {},
   "outputs": [
    {
     "name": "stdout",
     "output_type": "stream",
     "text": [
      "The Bloom Filter performed 1.7013445873904094 times faster on average.\n"
     ]
    }
   ],
   "source": [
    "print(\"The Bloom Filter performed \" + str(df_bin_performance[0].mean() / df_bloom_performance[0].mean()) + \" times faster on average.\")"
   ]
  },
  {
   "cell_type": "markdown",
   "metadata": {},
   "source": [
    "We can also check variability"
   ]
  },
  {
   "cell_type": "code",
   "execution_count": 49,
   "metadata": {},
   "outputs": [
    {
     "name": "stdout",
     "output_type": "stream",
     "text": [
      "0.5694758354504819\n",
      "2.5656133371723467e-06\n",
      "5.316283014863496e-07\n"
     ]
    }
   ],
   "source": [
    "print(df_linear_performance[0].std())\n",
    "print(df_bin_performance[0].std())\n",
    "print(df_bloom_performance[0].std())"
   ]
  },
  {
   "cell_type": "code",
   "execution_count": 50,
   "metadata": {},
   "outputs": [
    {
     "name": "stdout",
     "output_type": "stream",
     "text": [
      "The Bloom Filter has 4.825953264713886 times less variability.\n"
     ]
    }
   ],
   "source": [
    "print(\"The Bloom Filter has \" + str(df_bin_performance[0].std() / df_bloom_performance[0].std()) + \" times less variability.\")"
   ]
  },
  {
   "cell_type": "markdown",
   "metadata": {},
   "source": [
    "We can also see how the data from the 300 runs is spread out. For this purpose, we can use box plots and plot the performance data from the three algorithms."
   ]
  },
  {
   "cell_type": "code",
   "execution_count": 51,
   "metadata": {},
   "outputs": [
    {
     "data": {
      "image/png": "[encoded data removed]",
      "text/plain": [
       "<Figure size 432x288 with 1 Axes>"
      ]
     },
     "metadata": {
      "needs_background": "light"
     },
     "output_type": "display_data"
    }
   ],
   "source": [
    "box_plot_data = [linear_performance, bin_performance, bloom_performance]\n",
    "plt.boxplot(box_plot_data)\n",
    "\n",
    "plt.xlabel(\"Algorithm\")\n",
    "plt.ylabel(\"search time (s)\")\n",
    "plt.xticks([1, 2, 3], ['Linear', 'Binary', 'Bloom'])\n",
    "\n",
    "plt.title(\"Search comparison\")\n",
    "plt.show()"
   ]
  },
  {
   "cell_type": "markdown",
   "metadata": {},
   "source": [
    "The linear search has produced many otliers, so let us exclude it."
   ]
  },
  {
   "cell_type": "code",
   "execution_count": 52,
   "metadata": {},
   "outputs": [
    {
     "data": {
      "image/png": "[encoded data removed]",
      "text/plain": [
       "<Figure size 432x288 with 1 Axes>"
      ]
     },
     "metadata": {
      "needs_background": "light"
     },
     "output_type": "display_data"
    }
   ],
   "source": [
    "box_plot_data = [bloom_performance, bin_performance]\n",
    "plt.boxplot(box_plot_data)\n",
    "plt.xlabel(\"Algorithm\")\n",
    "plt.ylabel(\"search time (s)\")\n",
    "plt.xticks([1, 2], ['Binary', 'Bloom'])\n",
    "\n",
    "plt.title(\"Search comparison\")\n",
    "plt.show()"
   ]
  },
  {
   "cell_type": "markdown",
   "metadata": {},
   "source": [
    "We can further limit the y axis to get a better understanding of the results"
   ]
  },
  {
   "cell_type": "code",
   "execution_count": 55,
   "metadata": {},
   "outputs": [
    {
     "data": {
      "image/png": "[encoded data removed]",
      "text/plain": [
       "<Figure size 432x288 with 1 Axes>"
      ]
     },
     "metadata": {
      "needs_background": "light"
     },
     "output_type": "display_data"
    }
   ],
   "source": [
    "# this limitation might actually be unneccessary, but since each run depends on random inputs, results might vary !\n",
    "box_plot_data = [bloom_performance, bin_performance]\n",
    "plt.boxplot(box_plot_data)\n",
    "\n",
    "plt.xlabel(\"Algorithm\")\n",
    "plt.ylabel(\"search time (s)\")\n",
    "plt.xticks([1, 2], ['Binary', 'Bloom'])\n",
    "\n",
    "plt.title(\"Search comparison\")\n",
    "\n",
    "plt.ylim(0, 0.000015)\n",
    "plt.show()"
   ]
  },
  {
   "cell_type": "markdown",
   "metadata": {},
   "source": [
    "### Concluding remarks\n",
    "\n",
    "As demonstrated by the test we performed, a bloom filter provides a search speed advantage over the deterministic search algorithms we used. In addition the search times has less variability. Theoretically a Bloom filter also provides better space efficiency, since the data itself is not stored in the bitarray of the Bloom filter. This topic has not been covered in this paper and is a major limitation and an opportunity for further research. \n",
    "\n",
    "Still, Bloom filters have their disadvantages as well. To list a few: \n",
    "- Bloom filters can only return a result for membership, but cannot return the element itself.\n",
    "- Removing an element is not an option as discussed earlier in the paper.\n",
    "- False positives, though contolled, can still be an issue.\n",
    "\n"
   ]
  },
  {
   "cell_type": "markdown",
   "metadata": {},
   "source": [
    "### References"
   ]
  },
  {
   "cell_type": "markdown",
   "metadata": {},
   "source": [
    "[1] https://xlinux.nist.gov/dads/HTML/datastructur.html\n",
    "\n",
    "[2] https://cs.lmu.edu/~ray/notes/dtds/\n",
    "\n",
    "[3] https://beginnersbook.com/2018/10/data-structure-introduction/\n",
    "\n",
    "[4] Gakhov, Andrii. Probabilistic Data Structures and Algorithms for Big Data Applications (p. 8). gakhov. Kindle Edition.\n",
    "\n",
    "[5] https://dzone.com/articles/introduction-probabilistic-0\n",
    "\n",
    "[6] https://brilliant.org/wiki/bloom-filter/"
   ]
  }
 ],
 "metadata": {
  "kernelspec": {
   "display_name": "Python 3",
   "language": "python",
   "name": "python3"
  },
  "language_info": {
   "codemirror_mode": {
    "name": "ipython",
    "version": 3
   },
   "file_extension": ".py",
   "mimetype": "text/x-python",
   "name": "python",
   "nbconvert_exporter": "python",
   "pygments_lexer": "ipython3",
   "version": "3.7.6"
  }
 },
 "nbformat": 4,
 "nbformat_minor": 4
}
